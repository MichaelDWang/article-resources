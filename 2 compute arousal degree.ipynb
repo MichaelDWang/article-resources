{
 "cells": [
  {
   "cell_type": "code",
   "execution_count": null,
   "metadata": {},
   "outputs": [],
   "source": [
    "# 1 Sentiment value\n",
    "import pandas as pd\n",
    "import csv\n",
    "import numpy as np\n",
    "\n",
    "# Set data directory\n",
    "input_dir = \"data/annotated/annotated_contents.csv\"\n",
    "output_dir = \"data/annotated/finale/valuated_contents.csv\"\n",
    "\n",
    "# Create arousal word list\n",
    "arousal_list = []\n",
    "dicdir = 'combined_political_arousal.txt'\n",
    "with open(dicdir, 'r', encoding = 'utf-8-sig') as f:\n",
    "    for word in f:\n",
    "        arousal_list.append(word.strip())"
   ]
  },
  {
   "cell_type": "code",
   "execution_count": null,
   "metadata": {},
   "outputs": [],
   "source": [
    "def political_arousal(text_str):\n",
    "    # Cut text\n",
    "    import jieba\n",
    "    import unicodedata\n",
    "    import string\n",
    "    text = unicodedata.normalize('NFKC', text_str)\n",
    "    seg_list = jieba.cut(text, cut_all = False, HMM = True)\n",
    "    seg_list = [word.lower() for word in seg_list if word not in string.punctuation # remove punctuation\n",
    "                and not word.isnumeric() # remove digits\n",
    "                and word not in ['\\ue5e5',' ']] \n",
    "    arousal_words = [x for x in seg_list if x in arousal_list]\n",
    "    return len(arousal_words)/np.log(1 + len(seg_list))"
   ]
  },
  {
   "cell_type": "code",
   "execution_count": null,
   "metadata": {},
   "outputs": [],
   "source": [
    "df = pd.read_csv(input_dir, encoding='utf-8')\n",
    "\n",
    "# Create new output file\n",
    "with open(output_dir, \"w\", newline = '',encoding = 'utf-8') as csvfile:\n",
    "    w = csv.writer(csvfile, quoting=csv.QUOTE_MINIMAL)\n",
    "    header = ['created_at','topic_country', 'sentiment', 'arousal_degree', 'title','content']\n",
    "    w.writerow(header)\n",
    "\n",
    "i = 1\n",
    "for index, row in df.iterrows():\n",
    "    topic_country = row['topic_country']\n",
    "    sentiment = row['sentiment']\n",
    "    created_at = row['created_at']\n",
    "    title = row['title']\n",
    "    content = row['content']\n",
    "    arousal_degree = political_arousal(title + content)\n",
    "    if i % 200 == 0:\n",
    "        print(i,'out of ', len(df))\n",
    "    i += 1\n",
    "    \n",
    "    # Record output \n",
    "    records = [created_at,topic_country, sentiment, arousal_degree, title,content]\n",
    "    with open(output_dir, \"a\", newline = '',encoding = 'utf-8') as csvfile:\n",
    "        w = csv.writer(csvfile, quoting=csv.QUOTE_MINIMAL)\n",
    "        w.writerow(records)"
   ]
  },
  {
   "cell_type": "code",
   "execution_count": null,
   "metadata": {},
   "outputs": [],
   "source": []
  }
 ],
 "metadata": {
  "kernelspec": {
   "display_name": "Python 3",
   "language": "python",
   "name": "python3"
  },
  "language_info": {
   "codemirror_mode": {
    "name": "ipython",
    "version": 3
   },
   "file_extension": ".py",
   "mimetype": "text/x-python",
   "name": "python",
   "nbconvert_exporter": "python",
   "pygments_lexer": "ipython3",
   "version": "3.8.8"
  }
 },
 "nbformat": 4,
 "nbformat_minor": 2
}
