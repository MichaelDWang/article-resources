{
 "cells": [
  {
   "cell_type": "code",
   "execution_count": null,
   "metadata": {},
   "outputs": [],
   "source": [
    "# This file is created by Michael D. Wang linked to our paper \"Measuring political and economic uncertainty: a supervised computational linguistic approach\".\n",
    "\n",
    "# 1_General Monthly figure\n",
    "import numpy as np\n",
    "import csv\n",
    "import pandas as pd\n",
    "import matplotlib.pyplot as plt\n",
    "import seaborn as sns\n",
    "from pandas import Series,DataFrame\n",
    "from datetime import datetime\n",
    "\n",
    "import_file = 'PUI_monthly.csv'\n",
    "import_root = 'data/political uncertainty index/'\n",
    "output_root = 'figure/'\n",
    "\n",
    "df = pd.read_csv(import_root+import_file,encoding='utf-8')"
   ]
  },
  {
   "cell_type": "code",
   "execution_count": null,
   "metadata": {},
   "outputs": [],
   "source": [
    "def normalize(array):\n",
    "    mean = array.mean()\n",
    "    std = array.std(ddof=1)\n",
    "    array -= mean\n",
    "    array /= std\n",
    "    return array"
   ]
  },
  {
   "cell_type": "code",
   "execution_count": null,
   "metadata": {},
   "outputs": [],
   "source": [
    "x = df['date']\n",
    "x = [datetime.strftime(datetime.strptime(d, \"%Y-%m\"),\"%b %y\") for d in x]\n",
    "y1 = df['relation_index']\n",
    "y2 = df['uncertainty_index']"
   ]
  },
  {
   "cell_type": "code",
   "execution_count": null,
   "metadata": {},
   "outputs": [],
   "source": [
    "df[df['date'] >= '2016-03'].head()"
   ]
  },
  {
   "cell_type": "code",
   "execution_count": null,
   "metadata": {},
   "outputs": [],
   "source": [
    "y2 = normalize(y2)"
   ]
  },
  {
   "cell_type": "code",
   "execution_count": null,
   "metadata": {},
   "outputs": [],
   "source": [
    "plt.plot(x,y1,'-',label='COR')\n",
    "\n",
    "# axis label\n",
    "plt.xlabel('Date')\n",
    "plt.ylabel('COR Index')\n",
    "\n",
    "# axis scale\n",
    "plt.xticks(range(3,164)[::24])\n",
    "\n",
    "# Add Hu period\n",
    "date1 = 'Mar 13'\n",
    "plt.axvline(x=date1,c='red',ls=':')\n",
    "# plt.axhline(y=10)\n",
    "plt.annotate('Hu period'.format('Times New Roman'), xy=(0, 10), xytext=(27, 13))\n",
    "\n",
    "# Add Xi first period\n",
    "date2 = 'Mar 18'\n",
    "plt.axvline(x=date2,c='red',ls=':')\n",
    "# plt.axhline(y=10)\n",
    "plt.annotate('Xi period I'.format('Times New Roman'), xy=(0, 10), xytext=(103, 13))\n",
    "\n",
    "# Add Trade War period\n",
    "# plt.axhline(y=10)\n",
    "plt.annotate('Trade War'.format('Times New Roman'), xy=(0, 10), xytext=(145, 13))\n",
    "\n",
    "# Save\n",
    "plt.savefig(output_root + 'COR_1.pdf')"
   ]
  },
  {
   "cell_type": "code",
   "execution_count": null,
   "metadata": {},
   "outputs": [],
   "source": [
    "plt.plot(x,y2,'b-',label='CPU')\n",
    "\n",
    "# axis label\n",
    "plt.xlabel('Date')\n",
    "plt.ylabel('CPU Volatility (normalized)')\n",
    "\n",
    "# axis scale\n",
    "plt.xticks(range(3,164)[::24])\n",
    "\n",
    "# Add Hu period\n",
    "date1 = 'Mar 13'\n",
    "plt.axvline(x=date1,c='red',ls=':')\n",
    "# plt.axhline(y=10)\n",
    "plt.axvspan(0, x.index(date1), facecolor='lightslategrey', alpha=0.5)\n",
    "plt.annotate('Hu period'.format('Times New Roman'), xy=(0, 0), xytext=(28, 8.5))\n",
    "\n",
    "# Add Xi first period\n",
    "date2 = 'Mar 18'\n",
    "plt.axvline(x=date2,c='red',ls=':')\n",
    "# plt.axhline(y=10)\n",
    "plt.axvspan(x.index(date1), x.index(date2), facecolor='lightgreen', alpha=0.5)\n",
    "plt.annotate('Xi period I'.format('Times New Roman'), xy=(0, 0), xytext=(105, 8.5))\n",
    "\n",
    "# Add Trade War period\n",
    "# plt.axhline(y=10)\n",
    "plt.axvspan(x.index(date2),len(x), facecolor='red', alpha=0.5)\n",
    "plt.annotate('Trade War'.format('Times New Roman'), xy=(0, 0), xytext=(145, 8.5))\n",
    "\n",
    "# Save\n",
    "plt.savefig(output_root + 'CPU_1.pdf')"
   ]
  },
  {
   "cell_type": "code",
   "execution_count": null,
   "metadata": {},
   "outputs": [],
   "source": [
    "# 3_compared wtih EPU and VIX\n",
    "import pandas as pd\n",
    "import numpy as np\n",
    "import csv\n",
    "from datetime import datetime\n",
    "\n",
    "dv_dir = 'data/EPU and VIX/CBOE.csv'\n",
    "idv_dir = 'data/political uncertainty index/PUI_monthly.csv'\n",
    "epu_dir = 'data/EPU and VIX/GEPU.csv'\n",
    "epu2_dir = 'data/EPU and VIX/RM_EPU.csv'\n",
    "\n",
    "dv = pd.read_csv(dv_dir)\n",
    "idv = pd.read_csv(idv_dir, encoding='utf-8')\n",
    "epu = pd.read_csv(epu_dir)\n",
    "epu2 = pd.read_csv(epu2_dir)"
   ]
  },
  {
   "cell_type": "code",
   "execution_count": null,
   "metadata": {},
   "outputs": [],
   "source": [
    "# cut the time series to fit all data files\n",
    "from datetime import datetime\n",
    "\n",
    "idv = idv[(idv['date'] >= dv['date'].loc[0]) & (idv['date'] <= epu['date'].loc[len(epu)-1])]\n",
    "dv = dv[(dv['date'] >= epu['date'].loc[0]) & (dv['date'] <= epu['date'].loc[len(epu)-1])]\n",
    "epu = epu[(epu['date'] >= idv['date'].loc[0]) & (epu['date'] <= idv['date'].loc[len(idv)-1])]\n",
    "epu2 = epu2[(epu2['date'] >= idv['date'].loc[0]) & (epu2['date'] <= idv['date'].loc[len(idv)-1])]"
   ]
  },
  {
   "cell_type": "code",
   "execution_count": null,
   "metadata": {},
   "outputs": [],
   "source": [
    "idv['date'] = pd.to_datetime(idv['date'])\n",
    "dv['date'] = pd.to_datetime(dv['date'])\n",
    "epu['date'] = pd.to_datetime(epu['date'])\n",
    "epu2['date'] = pd.to_datetime(epu2['date'])\n",
    "\n",
    "idv.set_index(\"date\", inplace=True)\n",
    "dv.set_index(\"date\", inplace=True)\n",
    "epu.set_index(\"date\", inplace=True)\n",
    "epu2.set_index(\"date\", inplace=True)"
   ]
  },
  {
   "cell_type": "code",
   "execution_count": null,
   "metadata": {},
   "outputs": [],
   "source": [
    "# Variable sets\n",
    "\n",
    "# add a constant\n",
    "idv['const'] = 1\n",
    "epu['const'] = 1\n",
    "epu2['const'] = 1\n",
    "\n",
    "dv['vix'] = np.log(dv['vix'])\n",
    "idv['uncertainty_index'] = np.log(idv['uncertainty_index'])\n",
    "idv['relation_index'] = np.log(idv['relation_index'])\n",
    "\n",
    "idv['uncertainty_index-1'] = idv.shift(1)['uncertainty_index']\n",
    "idv['relation_index-1'] = idv.shift(1)['relation_index']\n",
    "\n",
    "reg1 =['uncertainty_index']\n",
    "reg2 = ['GEPU_current']\n",
    "reg3 = ['GEPU_ppp']\n",
    "reg4 = ['CEPU']\n",
    "reg5 = ['EPU']"
   ]
  },
  {
   "cell_type": "code",
   "execution_count": null,
   "metadata": {},
   "outputs": [],
   "source": [
    "from statsmodels.iolib.summary2 import summary_col\n",
    "import statsmodels.api as sm\n",
    "from sklearn import linear_model\n",
    "from sklearn.linear_model import Ridge\n",
    "from sklearn.linear_model import ElasticNet\n",
    "from sklearn.datasets import make_regression\n",
    "\n",
    "\n",
    "regs1 = [reg1]\n",
    "regs2 = [reg2,reg3]\n",
    "regs3 = [reg4,reg5]\n",
    "reg_names = ['(1)','(2)','(3)','(4)','(5)']\n",
    "info_dict = {'R-squared': lambda x: f\"{x.rsquared:.2f}\",\n",
    "             'No. observations': lambda x: f\"{int(x.nobs):d}\"}\n",
    "regressor_order = ['relation_index',\n",
    "                   'uncertainty_index',\n",
    "                   'GEPU_current',\n",
    "                   'GEPU_ppp',\n",
    "                   'CEPU',\n",
    "                   'const'\n",
    "                  ]\n",
    "ols_results = []\n",
    "results = []\n",
    "\n",
    "for reg in regs1:   \n",
    "    result = sm.OLS(dv['vix'], idv[reg], missing='drop').fit()\n",
    "    ols_results.append(result)\n",
    "for reg in regs2:\n",
    "    result = sm.OLS(dv['vix'], epu[reg], missing='drop').fit()\n",
    "    ols_results.append(result)\n",
    "for reg in regs3:\n",
    "    result = sm.OLS(dv['vix'], epu2[reg], missing='drop').fit()\n",
    "    ols_results.append(result)\n",
    "\n",
    "print(\"OLS\")\n",
    "results_table = summary_col(results=ols_results,\n",
    "                            float_format='%0.3f',\n",
    "                            stars=True,\n",
    "                            model_names=reg_names,\n",
    "                            info_dict=info_dict,\n",
    "                            regressor_order=regressor_order)\n",
    "results_table.add_title('Table 1 - News Credibility: OLS')\n",
    "# print(results_table)\n",
    "print(results_table.as_latex())"
   ]
  },
  {
   "cell_type": "code",
   "execution_count": null,
   "metadata": {},
   "outputs": [],
   "source": []
  }
 ],
 "metadata": {
  "kernelspec": {
   "display_name": "Python 3",
   "language": "python",
   "name": "python3"
  },
  "language_info": {
   "codemirror_mode": {
    "name": "ipython",
    "version": 3
   },
   "file_extension": ".py",
   "mimetype": "text/x-python",
   "name": "python",
   "nbconvert_exporter": "python",
   "pygments_lexer": "ipython3",
   "version": "3.8.8"
  }
 },
 "nbformat": 4,
 "nbformat_minor": 2
}
