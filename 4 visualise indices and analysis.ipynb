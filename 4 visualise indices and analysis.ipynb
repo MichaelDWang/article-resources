{
 "cells": [
  {
   "cell_type": "code",
   "execution_count": 6,
   "metadata": {},
   "outputs": [],
   "source": [
    "# 1_General Monthly figure\n",
    "\n",
    "import numpy as np\n",
    "import csv\n",
    "import pandas as pd\n",
    "import matplotlib.pyplot as plt\n",
    "import seaborn as sns\n",
    "from pandas import Series,DataFrame\n",
    "from datetime import datetime\n",
    "\n",
    "import_file = 'PUI_monthly.csv'\n",
    "import_root = 'data/political uncertainty index/'\n",
    "output_root = 'figure/'\n",
    "\n",
    "df = pd.read_csv(import_root+import_file,encoding='utf-8')"
   ]
  },
  {
   "cell_type": "code",
   "execution_count": 7,
   "metadata": {},
   "outputs": [],
   "source": [
    "def normalize(array):\n",
    "    mean = array.mean()\n",
    "    std = array.std(ddof=1)\n",
    "    array -= mean\n",
    "    array /= std\n",
    "    return array"
   ]
  },
  {
   "cell_type": "code",
   "execution_count": 8,
   "metadata": {},
   "outputs": [],
   "source": [
    "x = df['date']\n",
    "x = [datetime.strftime(datetime.strptime(d, \"%Y-%m\"),\"%b %y\") for d in x]\n",
    "y1 = df['relation_index']\n",
    "y2 = df['uncertainty_index']"
   ]
  },
  {
   "cell_type": "code",
   "execution_count": 9,
   "metadata": {},
   "outputs": [
    {
     "data": {
      "text/html": [
       "<div>\n",
       "<style scoped>\n",
       "    .dataframe tbody tr th:only-of-type {\n",
       "        vertical-align: middle;\n",
       "    }\n",
       "\n",
       "    .dataframe tbody tr th {\n",
       "        vertical-align: top;\n",
       "    }\n",
       "\n",
       "    .dataframe thead th {\n",
       "        text-align: right;\n",
       "    }\n",
       "</style>\n",
       "<table border=\"1\" class=\"dataframe\">\n",
       "  <thead>\n",
       "    <tr style=\"text-align: right;\">\n",
       "      <th></th>\n",
       "      <th>date</th>\n",
       "      <th>relation_index</th>\n",
       "      <th>uncertainty_index</th>\n",
       "      <th>keyword_1</th>\n",
       "      <th>keyword_2</th>\n",
       "      <th>keyword_3</th>\n",
       "      <th>keyword_4</th>\n",
       "      <th>keyword_5</th>\n",
       "    </tr>\n",
       "  </thead>\n",
       "  <tbody>\n",
       "    <tr>\n",
       "      <th>123</th>\n",
       "      <td>2016-03</td>\n",
       "      <td>3.194312</td>\n",
       "      <td>768.515868</td>\n",
       "      <td>中国</td>\n",
       "      <td>发展</td>\n",
       "      <td>经济</td>\n",
       "      <td>国家</td>\n",
       "      <td>创新</td>\n",
       "    </tr>\n",
       "    <tr>\n",
       "      <th>124</th>\n",
       "      <td>2016-04</td>\n",
       "      <td>7.682490</td>\n",
       "      <td>454.921977</td>\n",
       "      <td>中国</td>\n",
       "      <td>美国</td>\n",
       "      <td>发展</td>\n",
       "      <td>经济</td>\n",
       "      <td>国家</td>\n",
       "    </tr>\n",
       "    <tr>\n",
       "      <th>125</th>\n",
       "      <td>2016-05</td>\n",
       "      <td>6.210085</td>\n",
       "      <td>685.371781</td>\n",
       "      <td>中国</td>\n",
       "      <td>发展</td>\n",
       "      <td>美国</td>\n",
       "      <td>国家</td>\n",
       "      <td>经济</td>\n",
       "    </tr>\n",
       "    <tr>\n",
       "      <th>126</th>\n",
       "      <td>2016-06</td>\n",
       "      <td>7.177880</td>\n",
       "      <td>1082.038498</td>\n",
       "      <td>中国</td>\n",
       "      <td>发展</td>\n",
       "      <td>合作</td>\n",
       "      <td>经济</td>\n",
       "      <td>国家</td>\n",
       "    </tr>\n",
       "    <tr>\n",
       "      <th>127</th>\n",
       "      <td>2016-07</td>\n",
       "      <td>8.812337</td>\n",
       "      <td>407.718677</td>\n",
       "      <td>中国</td>\n",
       "      <td>美国</td>\n",
       "      <td>南海</td>\n",
       "      <td>发展</td>\n",
       "      <td>国家</td>\n",
       "    </tr>\n",
       "  </tbody>\n",
       "</table>\n",
       "</div>"
      ],
      "text/plain": [
       "        date  relation_index  uncertainty_index keyword_1 keyword_2 keyword_3  \\\n",
       "123  2016-03        3.194312         768.515868        中国        发展        经济   \n",
       "124  2016-04        7.682490         454.921977        中国        美国        发展   \n",
       "125  2016-05        6.210085         685.371781        中国        发展        美国   \n",
       "126  2016-06        7.177880        1082.038498        中国        发展        合作   \n",
       "127  2016-07        8.812337         407.718677        中国        美国        南海   \n",
       "\n",
       "    keyword_4 keyword_5  \n",
       "123        国家        创新  \n",
       "124        经济        国家  \n",
       "125        国家        经济  \n",
       "126        经济        国家  \n",
       "127        发展        国家  "
      ]
     },
     "execution_count": 9,
     "metadata": {},
     "output_type": "execute_result"
    }
   ],
   "source": [
    "df[df['date'] >= '2016-03'].head()"
   ]
  },
  {
   "cell_type": "code",
   "execution_count": 10,
   "metadata": {},
   "outputs": [],
   "source": [
    "y2 = normalize(y2)"
   ]
  },
  {
   "cell_type": "code",
   "execution_count": 11,
   "metadata": {},
   "outputs": [
    {
     "data": {
      "text/plain": [
       "Text(145, 13, 'Trade War')"
      ]
     },
     "execution_count": 11,
     "metadata": {},
     "output_type": "execute_result"
    },
    {
     "data": {
      "image/png": "[encoded data removed]",
      "text/plain": [
       "<Figure size 432x288 with 1 Axes>"
      ]
     },
     "metadata": {
      "needs_background": "light"
     },
     "output_type": "display_data"
    }
   ],
   "source": [
    "plt.plot(x,y1,'-',label='COR')\n",
    "\n",
    "# axis label\n",
    "plt.xlabel('Date')\n",
    "plt.ylabel('COR Index')\n",
    "\n",
    "# axis scale\n",
    "plt.xticks(range(3,164)[::24])\n",
    "\n",
    "# Add Hu period\n",
    "date1 = 'Mar 13'\n",
    "plt.axvline(x=date1,c='red',ls=':')\n",
    "# plt.axhline(y=10)\n",
    "plt.annotate('Hu period'.format('Times New Roman'), xy=(0, 10), xytext=(27, 13))\n",
    "\n",
    "# Add Xi first period\n",
    "date2 = 'Mar 18'\n",
    "plt.axvline(x=date2,c='red',ls=':')\n",
    "# plt.axhline(y=10)\n",
    "plt.annotate('Xi period I'.format('Times New Roman'), xy=(0, 10), xytext=(103, 13))\n",
    "\n",
    "# Add Trade War period\n",
    "# plt.axhline(y=10)\n",
    "plt.annotate('Trade War'.format('Times New Roman'), xy=(0, 10), xytext=(145, 13))\n",
    "\n",
    "# Save\n",
    "# plt.savefig(output_root + 'COR_1.pdf')"
   ]
  },
  {
   "cell_type": "code",
   "execution_count": 8,
   "metadata": {},
   "outputs": [
    {
     "data": {
      "image/png": "[encoded data removed]",
      "text/plain": [
       "<Figure size 432x288 with 1 Axes>"
      ]
     },
     "metadata": {
      "needs_background": "light"
     },
     "output_type": "display_data"
    }
   ],
   "source": [
    "plt.plot(x,y2,'b-',label='CPU')\n",
    "\n",
    "# axis label\n",
    "plt.xlabel('Date')\n",
    "plt.ylabel('CPU Volatility (normalized)')\n",
    "\n",
    "# axis scale\n",
    "plt.xticks(range(3,164)[::24])\n",
    "\n",
    "# Add Hu period\n",
    "date1 = 'Mar 13'\n",
    "plt.axvline(x=date1,c='red',ls=':')\n",
    "# plt.axhline(y=10)\n",
    "plt.axvspan(0, x.index(date1), facecolor='lightslategrey', alpha=0.5)\n",
    "plt.annotate('Hu period'.format('Times New Roman'), xy=(0, 0), xytext=(28, 8.5))\n",
    "\n",
    "# Add Xi first period\n",
    "date2 = 'Mar 18'\n",
    "plt.axvline(x=date2,c='red',ls=':')\n",
    "# plt.axhline(y=10)\n",
    "plt.axvspan(x.index(date1), x.index(date2), facecolor='lightgreen', alpha=0.5)\n",
    "plt.annotate('Xi period I'.format('Times New Roman'), xy=(0, 0), xytext=(105, 8.5))\n",
    "\n",
    "# Add Trade War period\n",
    "# plt.axhline(y=10)\n",
    "plt.axvspan(x.index(date2),len(x), facecolor='red', alpha=0.5)\n",
    "plt.annotate('Trade War'.format('Times New Roman'), xy=(0, 0), xytext=(145, 8.5))\n",
    "\n",
    "# Save\n",
    "plt.savefig(output_root + 'CPU_1.pdf')"
   ]
  },
  {
   "cell_type": "code",
   "execution_count": 13,
   "metadata": {},
   "outputs": [],
   "source": [
    "# 3_compared wtih EPU and VIX\n",
    "import pandas as pd\n",
    "import numpy as np\n",
    "import csv\n",
    "from datetime import datetime\n",
    "\n",
    "dv_dir = 'data/EPU and VIX/CBOE.csv'\n",
    "idv_dir = 'data/political uncertainty index/PUI_monthly.csv'\n",
    "epu_dir = 'data/EPU and VIX/GEPU.csv'\n",
    "epu2_dir = 'data/EPU and VIX/RM_EPU.csv'\n",
    "\n",
    "dv = pd.read_csv(dv_dir)\n",
    "idv = pd.read_csv(idv_dir, encoding='utf-8')\n",
    "epu = pd.read_csv(epu_dir)\n",
    "epu2 = pd.read_csv(epu2_dir)"
   ]
  },
  {
   "cell_type": "code",
   "execution_count": 14,
   "metadata": {},
   "outputs": [],
   "source": [
    "# cut the time series to fit all data files\n",
    "from datetime import datetime\n",
    "\n",
    "idv = idv[(idv['date'] >= dv['date'].loc[0]) & (idv['date'] <= epu['date'].loc[len(epu)-1])]\n",
    "dv = dv[(dv['date'] >= epu['date'].loc[0]) & (dv['date'] <= epu['date'].loc[len(epu)-1])]\n",
    "epu = epu[(epu['date'] >= idv['date'].loc[0]) & (epu['date'] <= idv['date'].loc[len(idv)-1])]\n",
    "epu2 = epu2[(epu2['date'] >= idv['date'].loc[0]) & (epu2['date'] <= idv['date'].loc[len(idv)-1])]"
   ]
  },
  {
   "cell_type": "code",
   "execution_count": 15,
   "metadata": {},
   "outputs": [],
   "source": [
    "idv['date'] = pd.to_datetime(idv['date'])\n",
    "dv['date'] = pd.to_datetime(dv['date'])\n",
    "epu['date'] = pd.to_datetime(epu['date'])\n",
    "epu2['date'] = pd.to_datetime(epu2['date'])\n",
    "\n",
    "idv.set_index(\"date\", inplace=True)\n",
    "dv.set_index(\"date\", inplace=True)\n",
    "epu.set_index(\"date\", inplace=True)\n",
    "epu2.set_index(\"date\", inplace=True)"
   ]
  },
  {
   "cell_type": "code",
   "execution_count": 16,
   "metadata": {},
   "outputs": [],
   "source": [
    "# Variable sets\n",
    "\n",
    "# add a constant\n",
    "idv['const'] = 1\n",
    "epu['const'] = 1\n",
    "epu2['const'] = 1\n",
    "\n",
    "dv['vix'] = np.log(dv['vix'])\n",
    "idv['uncertainty_index'] = np.log(idv['uncertainty_index'])\n",
    "idv['relation_index'] = np.log(idv['relation_index'])\n",
    "\n",
    "idv['uncertainty_index-1'] = idv.shift(1)['uncertainty_index']\n",
    "idv['relation_index-1'] = idv.shift(1)['relation_index']\n",
    "\n",
    "reg1 =['uncertainty_index']\n",
    "reg2 = ['GEPU_current']\n",
    "reg3 = ['GEPU_ppp']\n",
    "reg4 = ['CEPU']\n",
    "reg5 = ['EPU']"
   ]
  },
  {
   "cell_type": "code",
   "execution_count": 17,
   "metadata": {},
   "outputs": [
    {
     "name": "stdout",
     "output_type": "stream",
     "text": [
      "OLS\n",
      "\\begin{table}\n",
      "\\caption{Table 1 - News Credibility: OLS}\n",
      "\\label{}\n",
      "\\begin{center}\n",
      "\\begin{tabular}{llllll}\n",
      "\\hline\n",
      "                   & (1)      & (2)      & (3)      & (4)      & (5)       \\\\\n",
      "\\hline\n",
      "uncertainty\\_index & 0.486*** &          &          &          &           \\\\\n",
      "                   & (0.006)  &          &          &          &           \\\\\n",
      "GEPU\\_current      &          & 0.019*** &          &          &           \\\\\n",
      "                   &          & (0.001)  &          &          &           \\\\\n",
      "GEPU\\_ppp          &          &          & 0.018*** &          &           \\\\\n",
      "                   &          &          & (0.001)  &          &           \\\\\n",
      "CEPU               &          &          &          & 0.016*** &           \\\\\n",
      "                   &          &          &          & (0.001)  &           \\\\\n",
      "EPU                &          &          &          &          & 0.008***  \\\\\n",
      "                   &          &          &          &          & (0.001)   \\\\\n",
      "R-squared          & 0.976    & 0.855    & 0.837    & 0.726    & 0.587     \\\\\n",
      "R-squared Adj.     & 0.976    & 0.854    & 0.836    & 0.724    & 0.585     \\\\\n",
      "R-squared          & 0.98     & 0.86     & 0.84     & 0.73     & 0.59      \\\\\n",
      "No. observations   & 162      & 162      & 162      & 162      & 162       \\\\\n",
      "\\hline\n",
      "\\end{tabular}\n",
      "\\end{center}\n",
      "\\end{table}\n"
     ]
    }
   ],
   "source": [
    "from statsmodels.iolib.summary2 import summary_col\n",
    "import statsmodels.api as sm\n",
    "from sklearn import linear_model\n",
    "from sklearn.linear_model import Ridge\n",
    "from sklearn.linear_model import ElasticNet\n",
    "from sklearn.datasets import make_regression\n",
    "\n",
    "\n",
    "regs1 = [reg1]\n",
    "regs2 = [reg2,reg3]\n",
    "regs3 = [reg4,reg5]\n",
    "reg_names = ['(1)','(2)','(3)','(4)','(5)']\n",
    "info_dict = {'R-squared': lambda x: f\"{x.rsquared:.2f}\",\n",
    "             'No. observations': lambda x: f\"{int(x.nobs):d}\"}\n",
    "regressor_order = ['relation_index',\n",
    "                   'uncertainty_index',\n",
    "                   'GEPU_current',\n",
    "                   'GEPU_ppp',\n",
    "                   'CEPU',\n",
    "                   'const'\n",
    "                  ]\n",
    "ols_results = []\n",
    "results = []\n",
    "\n",
    "for reg in regs1:   \n",
    "    result = sm.OLS(dv['vix'], idv[reg], missing='drop').fit()\n",
    "    ols_results.append(result)\n",
    "for reg in regs2:\n",
    "    result = sm.OLS(dv['vix'], epu[reg], missing='drop').fit()\n",
    "    ols_results.append(result)\n",
    "for reg in regs3:\n",
    "    result = sm.OLS(dv['vix'], epu2[reg], missing='drop').fit()\n",
    "    ols_results.append(result)\n",
    "\n",
    "print(\"OLS\")\n",
    "results_table = summary_col(results=ols_results,\n",
    "                            float_format='%0.3f',\n",
    "                            stars=True,\n",
    "                            model_names=reg_names,\n",
    "                            info_dict=info_dict,\n",
    "                            regressor_order=regressor_order)\n",
    "results_table.add_title('Table 1 - News Credibility: OLS')\n",
    "# print(results_table)\n",
    "print(results_table.as_latex())"
   ]
  }
 ],
 "metadata": {
  "kernelspec": {
   "display_name": "Python 3",
   "language": "python",
   "name": "python3"
  },
  "language_info": {
   "codemirror_mode": {
    "name": "ipython",
    "version": 3
   },
   "file_extension": ".py",
   "mimetype": "text/x-python",
   "name": "python",
   "nbconvert_exporter": "python",
   "pygments_lexer": "ipython3",
   "version": "3.8.8"
  }
 },
 "nbformat": 4,
 "nbformat_minor": 2
}
